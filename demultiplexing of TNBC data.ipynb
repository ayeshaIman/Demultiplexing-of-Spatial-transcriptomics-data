{
 "cells": [
  {
   "cell_type": "code",
   "execution_count": 1,
   "metadata": {},
   "outputs": [
    {
     "name": "stdout",
     "output_type": "stream",
     "text": [
      "Requirement already satisfied: scanpy in c:\\users\\dal admin\\.conda\\envs\\squidpy\\lib\\site-packages (1.9.6)\n",
      "Requirement already satisfied: pandas in c:\\users\\dal admin\\.conda\\envs\\squidpy\\lib\\site-packages (2.1.4)\n",
      "Requirement already satisfied: h5py in c:\\users\\dal admin\\.conda\\envs\\squidpy\\lib\\site-packages (3.10.0)\n",
      "Requirement already satisfied: anndata>=0.7.4 in c:\\users\\dal admin\\.conda\\envs\\squidpy\\lib\\site-packages (from scanpy) (0.10.4)\n",
      "Requirement already satisfied: get-annotations in c:\\users\\dal admin\\.conda\\envs\\squidpy\\lib\\site-packages (from scanpy) (0.1.2)\n",
      "Requirement already satisfied: joblib in c:\\users\\dal admin\\.conda\\envs\\squidpy\\lib\\site-packages (from scanpy) (1.3.2)\n",
      "Requirement already satisfied: matplotlib>=3.4 in c:\\users\\dal admin\\.conda\\envs\\squidpy\\lib\\site-packages (from scanpy) (3.8.0)\n",
      "Requirement already satisfied: natsort in c:\\users\\dal admin\\.conda\\envs\\squidpy\\lib\\site-packages (from scanpy) (8.4.0)\n",
      "Requirement already satisfied: networkx>=2.3 in c:\\users\\dal admin\\.conda\\envs\\squidpy\\lib\\site-packages (from scanpy) (3.2.1)\n",
      "Requirement already satisfied: numba>=0.41.0 in c:\\users\\dal admin\\.conda\\envs\\squidpy\\lib\\site-packages (from scanpy) (0.58.1)\n",
      "Requirement already satisfied: numpy>=1.17.0 in c:\\users\\dal admin\\.conda\\envs\\squidpy\\lib\\site-packages (from scanpy) (1.23.4)\n",
      "Requirement already satisfied: packaging in c:\\users\\dal admin\\.conda\\envs\\squidpy\\lib\\site-packages (from scanpy) (23.1)\n",
      "Requirement already satisfied: patsy in c:\\users\\dal admin\\.conda\\envs\\squidpy\\lib\\site-packages (from scanpy) (0.5.5)\n",
      "Requirement already satisfied: scikit-learn>=0.24 in c:\\users\\dal admin\\.conda\\envs\\squidpy\\lib\\site-packages (from scanpy) (1.3.2)\n",
      "Requirement already satisfied: scipy>=1.4 in c:\\users\\dal admin\\.conda\\envs\\squidpy\\lib\\site-packages (from scanpy) (1.9.1)\n",
      "Requirement already satisfied: seaborn!=0.13.0 in c:\\users\\dal admin\\.conda\\envs\\squidpy\\lib\\site-packages (from scanpy) (0.13.1)\n",
      "Requirement already satisfied: session-info in c:\\users\\dal admin\\.conda\\envs\\squidpy\\lib\\site-packages (from scanpy) (1.0.0)\n",
      "Requirement already satisfied: statsmodels>=0.10.0rc2 in c:\\users\\dal admin\\.conda\\envs\\squidpy\\lib\\site-packages (from scanpy) (0.14.1)\n",
      "Requirement already satisfied: tqdm in c:\\users\\dal admin\\.conda\\envs\\squidpy\\lib\\site-packages (from scanpy) (4.66.1)\n",
      "Requirement already satisfied: umap-learn>=0.3.10 in c:\\users\\dal admin\\.conda\\envs\\squidpy\\lib\\site-packages (from scanpy) (0.5.5)\n",
      "Requirement already satisfied: python-dateutil>=2.8.2 in c:\\users\\dal admin\\.conda\\envs\\squidpy\\lib\\site-packages (from pandas) (2.8.2)\n",
      "Requirement already satisfied: pytz>=2020.1 in c:\\users\\dal admin\\.conda\\envs\\squidpy\\lib\\site-packages (from pandas) (2023.3.post1)\n",
      "Requirement already satisfied: tzdata>=2022.1 in c:\\users\\dal admin\\.conda\\envs\\squidpy\\lib\\site-packages (from pandas) (2023.3)\n",
      "Requirement already satisfied: array-api-compat in c:\\users\\dal admin\\.conda\\envs\\squidpy\\lib\\site-packages (from anndata>=0.7.4->scanpy) (1.4)\n",
      "Requirement already satisfied: exceptiongroup in c:\\users\\dal admin\\.conda\\envs\\squidpy\\lib\\site-packages (from anndata>=0.7.4->scanpy) (1.0.4)\n",
      "Requirement already satisfied: contourpy>=1.0.1 in c:\\users\\dal admin\\.conda\\envs\\squidpy\\lib\\site-packages (from matplotlib>=3.4->scanpy) (1.2.0)\n",
      "Requirement already satisfied: cycler>=0.10 in c:\\users\\dal admin\\.conda\\envs\\squidpy\\lib\\site-packages (from matplotlib>=3.4->scanpy) (0.11.0)\n",
      "Requirement already satisfied: fonttools>=4.22.0 in c:\\users\\dal admin\\.conda\\envs\\squidpy\\lib\\site-packages (from matplotlib>=3.4->scanpy) (4.25.0)\n",
      "Requirement already satisfied: kiwisolver>=1.0.1 in c:\\users\\dal admin\\.conda\\envs\\squidpy\\lib\\site-packages (from matplotlib>=3.4->scanpy) (1.4.4)\n",
      "Requirement already satisfied: pillow>=6.2.0 in c:\\users\\dal admin\\.conda\\envs\\squidpy\\lib\\site-packages (from matplotlib>=3.4->scanpy) (10.0.1)\n",
      "Requirement already satisfied: pyparsing>=2.3.1 in c:\\users\\dal admin\\.conda\\envs\\squidpy\\lib\\site-packages (from matplotlib>=3.4->scanpy) (3.0.9)\n",
      "Requirement already satisfied: importlib-resources>=3.2.0 in c:\\users\\dal admin\\.conda\\envs\\squidpy\\lib\\site-packages (from matplotlib>=3.4->scanpy) (6.1.0)\n",
      "Requirement already satisfied: llvmlite<0.42,>=0.41.0dev0 in c:\\users\\dal admin\\.conda\\envs\\squidpy\\lib\\site-packages (from numba>=0.41.0->scanpy) (0.41.1)\n",
      "Requirement already satisfied: six>=1.5 in c:\\users\\dal admin\\.conda\\envs\\squidpy\\lib\\site-packages (from python-dateutil>=2.8.2->pandas) (1.16.0)\n",
      "Requirement already satisfied: threadpoolctl>=2.0.0 in c:\\users\\dal admin\\.conda\\envs\\squidpy\\lib\\site-packages (from scikit-learn>=0.24->scanpy) (3.2.0)\n",
      "Requirement already satisfied: pynndescent>=0.5 in c:\\users\\dal admin\\.conda\\envs\\squidpy\\lib\\site-packages (from umap-learn>=0.3.10->scanpy) (0.5.11)\n",
      "Requirement already satisfied: stdlib-list in c:\\users\\dal admin\\.conda\\envs\\squidpy\\lib\\site-packages (from session-info->scanpy) (0.10.0)\n",
      "Requirement already satisfied: colorama in c:\\users\\dal admin\\.conda\\envs\\squidpy\\lib\\site-packages (from tqdm->scanpy) (0.4.6)\n",
      "Requirement already satisfied: zipp>=3.1.0 in c:\\users\\dal admin\\.conda\\envs\\squidpy\\lib\\site-packages (from importlib-resources>=3.2.0->matplotlib>=3.4->scanpy) (3.11.0)\n",
      "Note: you may need to restart the kernel to use updated packages.\n"
     ]
    }
   ],
   "source": [
    "pip install scanpy pandas h5py\n"
   ]
  },
  {
   "cell_type": "code",
   "execution_count": 10,
   "metadata": {},
   "outputs": [],
   "source": [
    "import h5py\n",
    "import pandas as pd\n",
    "from scipy.sparse import csr_matrix\n",
    "from scipy.sparse import csc_matrix\n",
    "\n"
   ]
  },
  {
   "cell_type": "code",
   "execution_count": 3,
   "metadata": {},
   "outputs": [
    {
     "name": "stdout",
     "output_type": "stream",
     "text": [
      "matrix\n",
      "matrix/barcodes\n",
      "matrix/data\n",
      "matrix/features\n",
      "matrix/features/_all_tag_keys\n",
      "matrix/features/feature_type\n",
      "matrix/features/genome\n",
      "matrix/features/id\n",
      "matrix/features/name\n",
      "matrix/indices\n",
      "matrix/indptr\n",
      "matrix/shape\n"
     ]
    }
   ],
   "source": [
    "\n",
    "\n",
    "h5_path = 'F:\\\\Ayesha Iman\\\\Data\\\\SAMPLES\\\\85\\\\GSM6433585_092A_filtered_feature_bc_matrix.h5'\n",
    "\n",
    "with h5py.File(h5_path, 'r') as h5_file:\n",
    "    def print_name(name):\n",
    "        print(name)\n",
    "    \n",
    "    # Use visit to print all names of objects in the H5 file\n",
    "    h5_file.visit(print_name)\n"
   ]
  },
  {
   "cell_type": "code",
   "execution_count": 11,
   "metadata": {},
   "outputs": [
    {
     "name": "stdout",
     "output_type": "stream",
     "text": [
      "Error creating sparse matrix: index pointer size (1290) should be (36602)\n",
      "Shape attempted: (36601, 1289)\n",
      "Data length: 8959689, Indices length: 8959689, IndPtr length: 1290\n"
     ]
    }
   ],
   "source": [
    "h5_path = 'F:\\\\Ayesha Iman\\\\Data\\\\SAMPLES\\\\85\\\\GSM6433585_092A_filtered_feature_bc_matrix.h5'\n",
    "with h5py.File(h5_path, 'r') as h5_file:\n",
    "    # Extract matrix components\n",
    "    data = h5_file['matrix/data'][:]\n",
    "    indices = h5_file['matrix/indices'][:]\n",
    "    indptr = h5_file['matrix/indptr'][:]\n",
    "    # It's crucial to correctly interpret the shape information\n",
    "    shape = tuple(h5_file['matrix/shape'][:])  # Ensure this is in the format (n_genes, n_cells)\n",
    "\n",
    "    # Attempt to create the sparse matrix again\n",
    "    try:\n",
    "        matrix = csr_matrix((data, indices, indptr), shape=shape)\n",
    "    except ValueError as e:\n",
    "        print(f\"Error creating sparse matrix: {e}\")\n",
    "        print(f\"Shape attempted: {shape}\")\n",
    "        print(f\"Data length: {len(data)}, Indices length: {len(indices)}, IndPtr length: {len(indptr)}\")\n",
    "\n",
    "# Now you have 'barcodes', 'gene_names', and 'matrix' ready for your analysis.\n"
   ]
  },
  {
   "cell_type": "code",
   "execution_count": 7,
   "metadata": {},
   "outputs": [],
   "source": [
    "matrix = csc_matrix((data, indices, indptr), shape=shape)\n"
   ]
  },
  {
   "cell_type": "code",
   "execution_count": 8,
   "metadata": {},
   "outputs": [],
   "source": [
    "# If you've constructed it as CSC and need CSR\n",
    "csr_matrix = matrix.tocsr()\n"
   ]
  },
  {
   "cell_type": "code",
   "execution_count": 18,
   "metadata": {},
   "outputs": [],
   "source": [
    "h5_path = 'F:\\\\Ayesha Iman\\\\Data\\\\SAMPLES\\\\85\\\\GSM6433585_092A_filtered_feature_bc_matrix.h5'\n",
    "\n",
    "with h5py.File(h5_path, 'r') as h5_file:\n",
    "    # Extract barcodes\n",
    "    barcodes = h5_file['matrix/barcodes'][:]\n",
    "    barcodes = [barcode.decode('utf-8') for barcode in barcodes]\n",
    "\n",
    "# Save barcodes to TSV using a full path to avoid permission issues\n",
    "barcodes_df = pd.DataFrame(barcodes, columns=['Barcode'])\n",
    "barcodes_path = 'C:\\\\Users\\\\DAL Admin\\\\Desktop\\\\barcodes.tsv'  # Correct path used here\n",
    "barcodes_df.to_csv(barcodes_path, sep='\\t', index=False)\n"
   ]
  },
  {
   "cell_type": "code",
   "execution_count": 19,
   "metadata": {},
   "outputs": [],
   "source": [
    "h5_path = 'F:\\\\Ayesha Iman\\\\Data\\\\SAMPLES\\\\85\\\\GSM6433585_092A_filtered_feature_bc_matrix.h5'\n",
    "\n",
    "with h5py.File(h5_path, 'r') as h5_file:\n",
    "    # Extract features (gene names)\n",
    "    features = h5_file['matrix/features/name'][:]\n",
    "    features = [feature.decode('utf-8') for feature in features]\n",
    "\n",
    "# Save features to TSV\n",
    "features_df = pd.DataFrame(features, columns=['Gene Name'])\n",
    "features_path = 'C:\\\\Users\\\\DAL Admin\\\\Desktop\\\\features.tsv'  # Specify your desired path\n",
    "features_df.to_csv(features_path, sep='\\t', index=False)\n"
   ]
  },
  {
   "cell_type": "code",
   "execution_count": 21,
   "metadata": {},
   "outputs": [],
   "source": [
    "from scipy.sparse import csc_matrix\n",
    "\n",
    "# Assuming the rest of your code is the same and you've already extracted\n",
    "# data, indices, indptr, and shape from the H5 file\n",
    "\n",
    "# Construct a CSC matrix instead of CSR\n",
    "matrix = csc_matrix((data, indices, indptr), shape=shape)\n"
   ]
  },
  {
   "cell_type": "code",
   "execution_count": 22,
   "metadata": {},
   "outputs": [],
   "source": [
    "from scipy.io import mmwrite\n",
    "\n",
    "matrix_path = 'C:\\\\Users\\\\DAL Admin\\\\Desktop\\\\expression_matrix.mtx'\n",
    "\n",
    "# Save the matrix in Matrix Market format\n",
    "mmwrite(matrix_path, matrix)\n"
   ]
  }
 ],
 "metadata": {
  "kernelspec": {
   "display_name": "squidpy",
   "language": "python",
   "name": "python3"
  },
  "language_info": {
   "codemirror_mode": {
    "name": "ipython",
    "version": 3
   },
   "file_extension": ".py",
   "mimetype": "text/x-python",
   "name": "python",
   "nbconvert_exporter": "python",
   "pygments_lexer": "ipython3",
   "version": "3.9.18"
  }
 },
 "nbformat": 4,
 "nbformat_minor": 2
}
